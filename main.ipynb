{
 "cells": [
  {
   "cell_type": "markdown",
   "metadata": {},
   "source": [
    "# Sales prediction project\n",
    "\n"
   ]
  },
  {
   "cell_type": "code",
   "execution_count": 103,
   "metadata": {},
   "outputs": [],
   "source": [
    "import pandas as pd \n",
    "from sklearn.model_selection import train_test_split \n",
    "from sklearn.ensemble import RandomForestRegressor \n",
    "from sklearn.metrics import mean_squared_error, r2_score\n"
   ]
  },
  {
   "cell_type": "markdown",
   "metadata": {},
   "source": [
    "## Regression Model Evaluation"
   ]
  },
  {
   "cell_type": "code",
   "execution_count": 104,
   "metadata": {},
   "outputs": [
    {
     "name": "stdout",
     "output_type": "stream",
     "text": [
      "   Unnamed: 0  store_ID  day_of_week        date  nb_customers_on_day  open  \\\n",
      "0      425390       366            4  2013-04-18                  517     1   \n",
      "1      291687       394            6  2015-04-11                  694     1   \n",
      "2      411278       807            4  2013-08-29                  970     1   \n",
      "3      664714       802            2  2013-05-28                  473     1   \n",
      "4      540835       726            4  2013-10-10                 1068     1   \n",
      "\n",
      "   promotion state_holiday  school_holiday  sales  \n",
      "0          0             0               0   4422  \n",
      "1          0             0               0   8297  \n",
      "2          1             0               0   9729  \n",
      "3          1             0               0   6513  \n",
      "4          1             0               0  10882  \n"
     ]
    }
   ],
   "source": [
    "sales = pd.read_csv('./sales.csv')\n",
    "print(sales.head())\n",
    "\n"
   ]
  },
  {
   "cell_type": "code",
   "execution_count": 105,
   "metadata": {},
   "outputs": [
    {
     "name": "stderr",
     "output_type": "stream",
     "text": [
      "C:\\Users\\jaime\\AppData\\Local\\Temp\\ipykernel_16260\\2468190030.py:6: UserWarning: Parsing dates in %Y-%m-%d format when dayfirst=True was specified. Pass `dayfirst=False` or specify a format to silence this warning.\n",
      "  sales['date'] = pd.to_datetime(sales['date'], dayfirst=True)\n"
     ]
    },
    {
     "name": "stdout",
     "output_type": "stream",
     "text": [
      "Sales data with extracted date components:\n",
      "   Unnamed: 0  store_ID  day_of_week  nb_customers_on_day  open  promotion  \\\n",
      "0      425390       366          3.0                  517     1          0   \n",
      "1      291687       394          5.0                  694     1          0   \n",
      "2      411278       807          3.0                  970     1          1   \n",
      "3      664714       802          1.0                  473     1          1   \n",
      "4      540835       726          3.0                 1068     1          1   \n",
      "\n",
      "   state_holiday  school_holiday  sales  month   day  \n",
      "0              0               0   4422    4.0  18.0  \n",
      "1              0               0   8297    4.0  11.0  \n",
      "2              0               0   9729    8.0  29.0  \n",
      "3              0               0   6513    5.0  28.0  \n",
      "4              0               0  10882   10.0  10.0  \n"
     ]
    }
   ],
   "source": [
    "from sklearn.preprocessing import LabelEncoder\n",
    "\n",
    "\n",
    "\n",
    "\n",
    "sales['date'] = pd.to_datetime(sales['date'], dayfirst=True)\n",
    "\n",
    "# Extract date components and create new columns\n",
    "#sales['year'] = sales['date'].dt.year.astype(float)\n",
    "sales['month'] = sales['date'].dt.month.astype(float)\n",
    "sales['day'] = sales['date'].dt.day.astype(float)\n",
    "sales['day_of_week'] = sales['date'].dt.dayofweek.astype(float)\n",
    "\n",
    "label_encoder = LabelEncoder()\n",
    "sales['state_holiday'] = label_encoder.fit_transform(sales['state_holiday'])\n",
    "\n",
    "# Drop the original 'date' column\n",
    "sales = sales.drop(columns=['date'])\n",
    "\n",
    "# Display the first few rows of the updated DataFrame\n",
    "print(\"Sales data with extracted date components:\")\n",
    "print(sales.head())\n",
    "\n",
    "sales = sales.drop(sales.columns[0], axis=1)\n",
    "\n"
   ]
  },
  {
   "cell_type": "markdown",
   "metadata": {},
   "source": [
    "## 1. Split this data set into training (80%) and testing (20%) sets.\n",
    "\n"
   ]
  },
  {
   "cell_type": "code",
   "execution_count": 106,
   "metadata": {},
   "outputs": [],
   "source": [
    "\n",
    "\n",
    "X = sales.drop('sales', axis=1)\n",
    "y = sales['sales']\n",
    "\n",
    "from sklearn.preprocessing import StandardScaler\n",
    "# Initialize the Linear Regression model\n",
    "\n",
    "# scaler = StandardScaler() \n",
    "# Fit and transform the features \n",
    "# X_scaled = scaler.fit_transform(X)\n",
    "\n",
    "X_train, X_test, y_train, y_test = train_test_split(X, y, test_size=0.2, random_state=42)\n"
   ]
  },
  {
   "cell_type": "markdown",
   "metadata": {},
   "source": [
    "## 2. Train a `RandomForestRegressor` model on this data set and generate predictions on both the training and the testing set."
   ]
  },
  {
   "cell_type": "code",
   "execution_count": 107,
   "metadata": {},
   "outputs": [],
   "source": [
    "\n",
    "# Initialize the Linear Regression model\n",
    "model = RandomForestRegressor(random_state=42)\n",
    "\n",
    "# Train the model on the training data\n",
    "model.fit(X_train, y_train)\n",
    "\n",
    "# Generate predictions on the training set\n",
    "y_train_pred = model.predict(X_train)\n",
    "\n",
    "# Generate predictions on the testing set\n",
    "y_test_pred = model.predict(X_test)\n",
    "\n",
    "\n"
   ]
  },
  {
   "cell_type": "markdown",
   "metadata": {},
   "source": [
    "## 3. Calculate and print R-squared for both the training and the testing set."
   ]
  },
  {
   "cell_type": "code",
   "execution_count": 108,
   "metadata": {},
   "outputs": [
    {
     "name": "stdout",
     "output_type": "stream",
     "text": [
      "Training set (R2) score: 0.9934633158958752\n",
      "Testing set (R2) score: 0.9528830434409824\n"
     ]
    }
   ],
   "source": [
    "from sklearn.metrics import mean_squared_error, r2_score, mean_absolute_error\n",
    "\n",
    "r2_train = r2_score(y_train, y_train_pred)\n",
    "r2_test = r2_score(y_test, y_test_pred)\n",
    "print(\"Training set (R2) score:\", r2_train)\n",
    "print(\"Testing set (R2) score:\", r2_test)"
   ]
  },
  {
   "cell_type": "markdown",
   "metadata": {},
   "source": [
    "## train and run the linear regression model"
   ]
  },
  {
   "cell_type": "code",
   "execution_count": 109,
   "metadata": {},
   "outputs": [],
   "source": [
    "from sklearn.linear_model import LinearRegression\n",
    "from sklearn.preprocessing import StandardScaler\n",
    "# Initialize the Linear Regression model\n",
    "\n",
    "scaler = StandardScaler() \n",
    "# Fit and transform the features \n",
    "X_scaled = scaler.fit_transform(X) \n",
    "# Split the data into training (80%) and testing (20%) \n",
    "X_trainL, X_testL, y_trainL, y_testL = train_test_split(X_scaled, y, test_size=0.2, random_state=42)\n",
    "\n",
    "lmodel = LinearRegression()\n",
    "\n",
    "# Train the model on the training data\n",
    "lmodel.fit(X_trainL, y_trainL)\n",
    "\n",
    "# Generate predictions on the training set\n",
    "y_train_pred_l = lmodel.predict(X_trainL)\n",
    "\n",
    "# Generate predictions on the testing set\n",
    "y_test_pred_l = lmodel.predict(X_testL)"
   ]
  },
  {
   "cell_type": "code",
   "execution_count": 110,
   "metadata": {},
   "outputs": [
    {
     "name": "stdout",
     "output_type": "stream",
     "text": [
      "Training set (R2) score: 0.8538839236379735\n",
      "Testing set (R2) score: 0.8512340183196727\n"
     ]
    }
   ],
   "source": [
    "r2_train_l = r2_score(y_trainL, y_train_pred_l)\n",
    "r2_test_l = r2_score(y_testL, y_test_pred_l)\n",
    "\n",
    "\n",
    "print(f\"Training set (R2) score: {r2_train_l}\")\n",
    "\n",
    "print(f\"Testing set (R2) score: {r2_test_l}\")"
   ]
  },
  {
   "cell_type": "code",
   "execution_count": 111,
   "metadata": {},
   "outputs": [
    {
     "name": "stdout",
     "output_type": "stream",
     "text": [
      "Training set (R2) score: 0.9594703316688538\n",
      "Testing set (R2) score: 0.9474603533744812\n"
     ]
    }
   ],
   "source": [
    "\n",
    "from xgboost import XGBRegressor\n",
    "from sklearn.preprocessing import StandardScaler\n",
    "\n",
    "\n",
    "X_train, X_test, y_train, y_test = train_test_split(X_scaled, y, test_size=0.2)\n",
    "\n",
    "\n",
    "xgb = XGBRegressor(n_estimators=1000, random_state=42)\n",
    "xgb.fit(X_train, y_train)\n",
    "\n",
    "y_train_pred = xgb.predict(X_train)\n",
    "y_test_pred = xgb.predict(X_test)\n",
    "\n",
    "r2_train = r2_score(y_train, y_train_pred)\n",
    "r2_test = r2_score(y_test, y_test_pred)\n",
    "\n",
    "\n",
    "print(f\"Training set (R2) score: {r2_train}\")\n",
    "\n",
    "print(f\"Testing set (R2) score: {r2_test}\")\n"
   ]
  },
  {
   "cell_type": "code",
   "execution_count": 112,
   "metadata": {},
   "outputs": [
    {
     "name": "stdout",
     "output_type": "stream",
     "text": [
      "    index  store_ID  day_of_week        date  nb_customers_on_day  open  \\\n",
      "0  272371       415            7  01/03/2015                    0     0   \n",
      "1  558468        27            7  29/12/2013                    0     0   \n",
      "2   76950       404            3  19/03/2014                  657     1   \n",
      "3   77556       683            2  29/01/2013                  862     1   \n",
      "4  456344       920            3  19/03/2014                  591     1   \n",
      "\n",
      "   promotion state_holiday  school_holiday  \n",
      "0          0             0               0  \n",
      "1          0             0               0  \n",
      "2          1             0               0  \n",
      "3          0             0               0  \n",
      "4          1             0               0  \n",
      "Index(['index', 'store_ID', 'day_of_week', 'date', 'nb_customers_on_day',\n",
      "       'open', 'promotion', 'state_holiday', 'school_holiday'],\n",
      "      dtype='object')\n"
     ]
    }
   ],
   "source": [
    "real_data = pd.read_csv('./REAL_DATA.csv')\n",
    "print(real_data.head())\n",
    "print(real_data.columns)\n"
   ]
  },
  {
   "cell_type": "code",
   "execution_count": 113,
   "metadata": {},
   "outputs": [
    {
     "name": "stdout",
     "output_type": "stream",
     "text": [
      "Real data with extracted date components:\n",
      "    index  store_ID  day_of_week  nb_customers_on_day  open  promotion  \\\n",
      "0  272371       415          6.0                    0     0          0   \n",
      "1  558468        27          6.0                    0     0          0   \n",
      "2   76950       404          2.0                  657     1          1   \n",
      "3   77556       683          1.0                  862     1          0   \n",
      "4  456344       920          2.0                  591     1          1   \n",
      "\n",
      "  state_holiday  school_holiday  month   day  \n",
      "0             0               0    3.0   1.0  \n",
      "1             0               0   12.0  29.0  \n",
      "2             0               0    3.0  19.0  \n",
      "3             0               0    1.0  29.0  \n",
      "4             0               0    3.0  19.0  \n"
     ]
    }
   ],
   "source": [
    "\n",
    "real_data['date'] = pd.to_datetime(real_data['date'], dayfirst=True)\n",
    "\n",
    "# Extract date components and create new columns\n",
    "#real_data['year'] = real_data['date'].dt.year.astype(float)\n",
    "real_data['month'] = real_data['date'].dt.month.astype(float)\n",
    "real_data['day'] = real_data['date'].dt.day.astype(float)\n",
    "real_data['day_of_week'] = real_data['date'].dt.dayofweek.astype(float)\n",
    "\n",
    "# Drop the original 'date' column\n",
    "real_data = real_data.drop(columns=['date'])\n",
    "\n",
    "# Display the first few rows of the updated DataFrame\n",
    "print(\"Real data with extracted date components:\")\n",
    "print(real_data.head())\n",
    "\n",
    "real_data = real_data.drop(real_data.columns[0], axis=1)\n",
    "\n",
    "\n",
    "label_encoder = LabelEncoder()\n",
    "real_data['state_holiday'] = label_encoder.fit_transform(real_data['state_holiday'])\n",
    "\n",
    "\n",
    "\n",
    "\n"
   ]
  },
  {
   "cell_type": "code",
   "execution_count": 114,
   "metadata": {},
   "outputs": [],
   "source": [
    "\n",
    "X_new = real_data\n",
    "\n",
    "new_predictions = model.predict(X_new)\n",
    "\n",
    "real_data['sales'] = new_predictions"
   ]
  },
  {
   "cell_type": "code",
   "execution_count": 115,
   "metadata": {},
   "outputs": [
    {
     "name": "stdout",
     "output_type": "stream",
     "text": [
      "New data with predicted sales:\n",
      "   store_ID  day_of_week  nb_customers_on_day  open  promotion  state_holiday  \\\n",
      "0       415          6.0                    0     0          0              0   \n",
      "1        27          6.0                    0     0          0              0   \n",
      "2       404          2.0                  657     1          1              0   \n",
      "3       683          1.0                  862     1          0              0   \n",
      "4       920          2.0                  591     1          1              0   \n",
      "\n",
      "   school_holiday  month   day    sales  \n",
      "0               0    3.0   1.0     0.00  \n",
      "1               0   12.0  29.0     0.00  \n",
      "2               0    3.0  19.0  6101.34  \n",
      "3               0    1.0  29.0  7793.29  \n",
      "4               0    3.0  19.0  5639.91  \n"
     ]
    }
   ],
   "source": [
    "print(\"New data with predicted sales:\") \n",
    "print(real_data.head())"
   ]
  },
  {
   "cell_type": "code",
   "execution_count": 116,
   "metadata": {},
   "outputs": [],
   "source": [
    "real_data.to_csv('G3.csv', index=False)"
   ]
  }
 ],
 "metadata": {
  "kernelspec": {
   "display_name": "Python 3",
   "language": "python",
   "name": "python3"
  },
  "language_info": {
   "codemirror_mode": {
    "name": "ipython",
    "version": 3
   },
   "file_extension": ".py",
   "mimetype": "text/x-python",
   "name": "python",
   "nbconvert_exporter": "python",
   "pygments_lexer": "ipython3",
   "version": "3.11.9"
  }
 },
 "nbformat": 4,
 "nbformat_minor": 2
}
